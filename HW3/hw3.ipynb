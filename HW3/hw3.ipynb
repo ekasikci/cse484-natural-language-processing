{
 "cells": [
  {
   "cell_type": "code",
   "execution_count": 28,
   "id": "initial_id",
   "metadata": {
    "collapsed": true,
    "ExecuteTime": {
     "end_time": "2024-01-29T12:55:15.877377400Z",
     "start_time": "2024-01-29T12:55:13.563333800Z"
    }
   },
   "outputs": [],
   "source": [
    "# Reading the file\n",
    "try:\n",
    "    with open('wiki_00', 'r', encoding='utf-8') as file:\n",
    "        text = file.read()\n",
    "except FileNotFoundError:\n",
    "    print(\"The file was not found.\")\n",
    "    text = \"\""
   ]
  },
  {
   "cell_type": "code",
   "execution_count": 29,
   "outputs": [
    {
     "name": "stderr",
     "output_type": "stream",
     "text": [
      "[nltk_data] Downloading package punkt to\n",
      "[nltk_data]     C:\\Users\\ekasi\\AppData\\Roaming\\nltk_data...\n",
      "[nltk_data]   Package punkt is already up-to-date!\n"
     ]
    }
   ],
   "source": [
    "    # Importing necessary libraries\n",
    "    import nltk\n",
    "    from nltk.tokenize import sent_tokenize\n",
    "    import numpy as np\n",
    "    import re\n",
    "    from keras.models import Sequential\n",
    "    from keras.layers import Dense\n",
    "    from sklearn.model_selection import train_test_split\n",
    "    import string\n",
    "    \n",
    "    \n",
    "    # Downloading and setting up NLTK\n",
    "    nltk.download('punkt')\n",
    "    \n",
    "    # Tokenize the text into sentences\n",
    "    sentences = sent_tokenize(text, language='turkish')"
   ],
   "metadata": {
    "collapsed": false,
    "ExecuteTime": {
     "end_time": "2024-01-29T12:57:00.035500100Z",
     "start_time": "2024-01-29T12:55:15.877377400Z"
    }
   },
   "id": "fb2567d4fe03b815"
  },
  {
   "cell_type": "code",
   "execution_count": 30,
   "outputs": [],
   "source": [
    "# Preprocessing function\n",
    "def preprocess_sentence(sentence):\n",
    "    sentence = sentence.lower()\n",
    "    sentence = re.sub(f\"[{string.punctuation}]\", \"\", sentence)\n",
    "    return sentence\n",
    "\n",
    "# Preprocess each sentence\n",
    "preprocessed_sentences = [preprocess_sentence(sentence) for sentence in sentences]"
   ],
   "metadata": {
    "collapsed": false,
    "ExecuteTime": {
     "end_time": "2024-01-29T12:57:21.197663500Z",
     "start_time": "2024-01-29T12:57:00.035500100Z"
    }
   },
   "id": "cfb1fa4e5b744d94"
  },
  {
   "cell_type": "code",
   "execution_count": 31,
   "outputs": [],
   "source": [
    "# Regular Expressions for Separated Sentences (de/da and ki)\n",
    "separated_pattern = r'\\s(de|da|ki)\\s'\n",
    "separated_sentences = [sentence for sentence in preprocessed_sentences if re.search(separated_pattern, sentence, re.IGNORECASE)]\n",
    "\n",
    "# Regular Expressions for Unseparated Sentences (de/da and ki)\n",
    "unseparated_pattern = r'\\S(de|da|ki)\\S'\n",
    "unseparated_sentences = [sentence for sentence in preprocessed_sentences if re.search(unseparated_pattern, sentence, re.IGNORECASE)]\n",
    "\n",
    "import random\n",
    "\n",
    "# Labels for separated sentences (True)\n",
    "separated_labels = [True] * len(separated_sentences)\n",
    "\n",
    "# Downsampling the unseparated sentences\n",
    "random.seed(42)  # For reproducibility\n",
    "unseparated_downsampled = random.sample(unseparated_sentences, len(separated_sentences))\n",
    "\n",
    "# Update labels for the downsampled unseparated sentences\n",
    "unseparated_labels_downsampled = [False] * len(unseparated_downsampled)\n",
    "\n",
    "# Combine sentences and labels\n",
    "combined_sentences = separated_sentences + unseparated_downsampled\n",
    "combined_labels = separated_labels + unseparated_labels_downsampled\n",
    "assert len(combined_sentences) == len(combined_labels)"
   ],
   "metadata": {
    "collapsed": false,
    "ExecuteTime": {
     "end_time": "2024-01-29T12:57:44.964425Z",
     "start_time": "2024-01-29T12:57:21.209459300Z"
    }
   },
   "id": "53799d7777a09d78"
  },
  {
   "cell_type": "code",
   "execution_count": 32,
   "outputs": [],
   "source": [
    "# Word2Vec Model Training\n",
    "from gensim.models import Word2Vec\n",
    "tokenized_sentences = [sentence.split() for sentence in combined_sentences]\n",
    "word2vec_model = Word2Vec(sentences=tokenized_sentences, vector_size=100, window=5, min_count=1, workers=4)\n",
    "\n",
    "# Vectorize each sentence using Word2Vec\n",
    "def vectorize_sentence(sentence, model):\n",
    "    words = sentence.split()\n",
    "    word_vectors = [model.wv[word] for word in words if word in model.wv]\n",
    "    if not word_vectors:\n",
    "        return np.zeros(model.vector_size)\n",
    "    return np.mean(word_vectors, axis=0)\n",
    "\n",
    "sentence_embeddings = np.array([vectorize_sentence(sentence, word2vec_model) for sentence in combined_sentences])"
   ],
   "metadata": {
    "collapsed": false,
    "ExecuteTime": {
     "end_time": "2024-01-29T13:01:21.735735200Z",
     "start_time": "2024-01-29T12:57:44.974011400Z"
    }
   },
   "id": "aea12e1e74de8ebd"
  },
  {
   "cell_type": "code",
   "execution_count": 33,
   "outputs": [
    {
     "name": "stdout",
     "output_type": "stream",
     "text": [
      "Epoch 1/10\n",
      "21262/21262 [==============================] - 59s 3ms/step - loss: 0.2669 - accuracy: 0.9028 - val_loss: 0.2247 - val_accuracy: 0.9231\n",
      "Epoch 2/10\n",
      "21262/21262 [==============================] - 53s 2ms/step - loss: 0.2388 - accuracy: 0.9170 - val_loss: 0.2217 - val_accuracy: 0.9248\n",
      "Epoch 3/10\n",
      "21262/21262 [==============================] - 33s 2ms/step - loss: 0.2330 - accuracy: 0.9196 - val_loss: 0.2204 - val_accuracy: 0.9249\n",
      "Epoch 4/10\n",
      "21262/21262 [==============================] - 34s 2ms/step - loss: 0.2299 - accuracy: 0.9210 - val_loss: 0.2164 - val_accuracy: 0.9272\n",
      "Epoch 5/10\n",
      "21262/21262 [==============================] - 33s 2ms/step - loss: 0.2277 - accuracy: 0.9220 - val_loss: 0.2156 - val_accuracy: 0.9271\n",
      "Epoch 6/10\n",
      "21262/21262 [==============================] - 37s 2ms/step - loss: 0.2258 - accuracy: 0.9229 - val_loss: 0.2158 - val_accuracy: 0.9277\n",
      "Epoch 7/10\n",
      "21262/21262 [==============================] - 54s 3ms/step - loss: 0.2250 - accuracy: 0.9231 - val_loss: 0.2141 - val_accuracy: 0.9280\n",
      "Epoch 8/10\n",
      "21262/21262 [==============================] - 54s 3ms/step - loss: 0.2238 - accuracy: 0.9237 - val_loss: 0.2147 - val_accuracy: 0.9277\n",
      "Epoch 9/10\n",
      "21262/21262 [==============================] - 55s 3ms/step - loss: 0.2228 - accuracy: 0.9243 - val_loss: 0.2146 - val_accuracy: 0.9281\n",
      "Epoch 10/10\n",
      "21262/21262 [==============================] - 54s 3ms/step - loss: 0.2223 - accuracy: 0.9245 - val_loss: 0.2134 - val_accuracy: 0.9286\n",
      "5316/5316 [==============================] - 7s 1ms/step - loss: 0.2134 - accuracy: 0.9286\n",
      "5316/5316 [==============================] - 6s 1ms/step\n",
      "Test Accuracy: 92.86%\n",
      "Precision: 0.88\n",
      "Recall: 0.99\n",
      "F1 Score: 0.93\n"
     ]
    }
   ],
   "source": [
    "from keras.layers import Dropout\n",
    "from sklearn.metrics import precision_score, recall_score, f1_score\n",
    "\n",
    "# Neural network model setup\n",
    "model = Sequential()\n",
    "model.add(Dense(128, activation='relu', input_dim=sentence_embeddings.shape[1]))\n",
    "model.add(Dropout(0.5))  #for regularization\n",
    "model.add(Dense(64, activation='relu'))\n",
    "model.add(Dense(1, activation='sigmoid'))  # Binary classification\n",
    "\n",
    "model.compile(optimizer='adam', loss='binary_crossentropy', metrics=['accuracy'])\n",
    "\n",
    "# Convert combined labels to a numpy array\n",
    "y = np.array(combined_labels)\n",
    "\n",
    "# Splitting data into training and test sets\n",
    "X_train, X_test, y_train, y_test = train_test_split(sentence_embeddings, y, test_size=0.2, random_state=42)\n",
    "\n",
    "# Training the model\n",
    "model.fit(X_train, y_train, epochs=10, batch_size=32, validation_data=(X_test, y_test))\n",
    "\n",
    "# Evaluating the model\n",
    "loss, accuracy = model.evaluate(X_test, y_test)\n",
    "y_pred = model.predict(X_test)\n",
    "y_pred = (y_pred > 0.5).astype(int)  # Convert probabilities to binary predictions\n",
    "\n",
    "# Calculating Precision, Recall, and F1-Score\n",
    "precision = precision_score(y_test, y_pred)\n",
    "recall = recall_score(y_test, y_pred)\n",
    "f1 = f1_score(y_test, y_pred)\n",
    "\n",
    "print(f\"Test Accuracy: {accuracy*100:.2f}%\")\n",
    "print(f\"Precision: {precision:.2f}\")\n",
    "print(f\"Recall: {recall:.2f}\")\n",
    "print(f\"F1 Score: {f1:.2f}\")"
   ],
   "metadata": {
    "collapsed": false,
    "ExecuteTime": {
     "end_time": "2024-01-29T13:09:24.968036600Z",
     "start_time": "2024-01-29T13:01:21.798223900Z"
    }
   },
   "id": "c995d542bd7abbe3"
  },
  {
   "cell_type": "code",
   "execution_count": 35,
   "outputs": [],
   "source": [
    "def predict_new_sentences(new_sentences, model, word2vec_model):\n",
    "    # Preprocess the new sentences\n",
    "    preprocessed_sentences = [preprocess_sentence(sentence) for sentence in new_sentences]\n",
    "\n",
    "    # Vectorize the new sentences using the Word2Vec model\n",
    "    new_sentence_embeddings = np.array([vectorize_sentence(sentence, word2vec_model) for sentence in preprocessed_sentences])\n",
    "\n",
    "    # Make predictions\n",
    "    predictions = model.predict(new_sentence_embeddings)\n",
    "    # Convert predictions to binary labels (0 or 1)\n",
    "    return (predictions > 0.5).astype(int)\n"
   ],
   "metadata": {
    "collapsed": false,
    "ExecuteTime": {
     "end_time": "2024-01-29T13:09:24.990679300Z",
     "start_time": "2024-01-29T13:09:24.978288900Z"
    }
   },
   "id": "15e4678106b1be60"
  },
  {
   "cell_type": "code",
   "execution_count": 39,
   "outputs": [
    {
     "name": "stdout",
     "output_type": "stream",
     "text": [
      "1/1 [==============================] - 0s 32ms/step\n",
      "Sentence: 'Bugün parkta bir yürüyüş yaptık.' - Predicted Label: 0\n",
      "Sentence: 'Kitap masanın üstünde duruyordu.' - Predicted Label: 0\n",
      "Sentence: 'Pencereden bakan çocuk da mutlu görünüyordu.' - Predicted Label: 1\n",
      "Sentence: 'Yarınki toplantıya katılamayacağım.' - Predicted Label: 0\n",
      "Sentence: 'Bu iş tam da bana göre.' - Predicted Label: 1\n",
      "Sentence: 'Kediler de insanlar gibi duygusal olabilir.' - Predicted Label: 1\n",
      "Sentence: 'Olay yerindeki deliller incelendi.' - Predicted Label: 0\n",
      "Sentence: 'Anladığım kadarıyla ders çok zormuş ki düşük not almışlar.' - Predicted Label: 1\n",
      "Sentence: 'Köpeğim dün gece de çok havladı.' - Predicted Label: 1\n",
      "Sentence: 'Bu konudaki düşüncelerini merak ediyorum.' - Predicted Label: 0\n",
      "Sentence: 'Evdeki hesap çarşıya uymaz.' - Predicted Label: 0\n",
      "Sentence: 'Yeni aldığın ayakkabılar çok mu rahat ki?' - Predicted Label: 1\n",
      "Sentence: 'Arkadaşımla dün sinemada vakit geçirdik.' - Predicted Label: 0\n",
      "Sentence: 'Tatilde deniz kenarında bir evde kaldık.' - Predicted Label: 0\n",
      "Sentence: 'Okuldaki öğretmenler çok iyiydi.' - Predicted Label: 0\n",
      "Sentence: 'Dün akşamki yemeğin tadı hâlâ damağımda.' - Predicted Label: 0\n",
      "Sentence: 'Yazın ortasında da kar yağdı.' - Predicted Label: 1\n",
      "Sentence: 'Bu akşamki konseri kaçırmak istemiyorum.' - Predicted Label: 0\n",
      "Sentence: 'Dünkü maçta çok heyecanlandım.' - Predicted Label: 0\n",
      "Sentence: 'Kitaplıktaki kitaplar da tozlanmış.' - Predicted Label: 1\n"
     ]
    }
   ],
   "source": [
    "# Example usage\n",
    "test_sentences = [\n",
    "    \"Bugün parkta bir yürüyüş yaptık.\",\n",
    "    \"Kitap masanın üstünde duruyordu.\",\n",
    "    \"Pencereden bakan çocuk da mutlu görünüyordu.\",\n",
    "    \"Yarınki toplantıya katılamayacağım.\",\n",
    "    \"Bu iş tam da bana göre.\",\n",
    "    \"Kediler de insanlar gibi duygusal olabilir.\",\n",
    "    \"Olay yerindeki deliller incelendi.\",\n",
    "    \"Anladığım kadarıyla ders çok zormuş ki düşük not almışlar.\",\n",
    "    \"Köpeğim dün gece de çok havladı.\",\n",
    "    \"Bu konudaki düşüncelerini merak ediyorum.\",\n",
    "    \"Evdeki hesap çarşıya uymaz.\",\n",
    "    \"Yeni aldığın ayakkabılar çok mu rahat ki?\",\n",
    "    \"Arkadaşımla dün sinemada vakit geçirdik.\",\n",
    "    \"Tatilde deniz kenarında bir evde kaldık.\",\n",
    "    \"Okuldaki öğretmenler çok iyiydi.\",\n",
    "    \"Dün akşamki yemeğin tadı hâlâ damağımda.\",\n",
    "    \"Yazın ortasında da kar yağdı.\",\n",
    "    \"Bu akşamki konseri kaçırmak istemiyorum.\",\n",
    "    \"Dünkü maçta çok heyecanlandım.\",\n",
    "    \"Kitaplıktaki kitaplar da tozlanmış.\"\n",
    "]\n",
    "\n",
    "predictions = predict_new_sentences(test_sentences, model, word2vec_model)\n",
    "\n",
    "# Print predictions\n",
    "for sentence, prediction in zip(test_sentences, predictions):\n",
    "    print(f\"Sentence: '{sentence}' - Predicted Label: {prediction[0]}\")"
   ],
   "metadata": {
    "collapsed": false,
    "ExecuteTime": {
     "end_time": "2024-01-29T14:08:58.404031400Z",
     "start_time": "2024-01-29T14:08:58.338227900Z"
    }
   },
   "id": "3a81cfc4f4920676"
  }
 ],
 "metadata": {
  "kernelspec": {
   "display_name": "Python 3",
   "language": "python",
   "name": "python3"
  },
  "language_info": {
   "codemirror_mode": {
    "name": "ipython",
    "version": 2
   },
   "file_extension": ".py",
   "mimetype": "text/x-python",
   "name": "python",
   "nbconvert_exporter": "python",
   "pygments_lexer": "ipython2",
   "version": "2.7.6"
  }
 },
 "nbformat": 4,
 "nbformat_minor": 5
}
